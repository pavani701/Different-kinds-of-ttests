{
  "nbformat": 4,
  "nbformat_minor": 0,
  "metadata": {
    "colab": {
      "provenance": []
    },
    "kernelspec": {
      "name": "python3",
      "display_name": "Python 3"
    },
    "language_info": {
      "name": "python"
    }
  },
  "cells": [
    {
      "cell_type": "code",
      "execution_count": 6,
      "metadata": {
        "colab": {
          "base_uri": "https://localhost:8080/"
        },
        "id": "l6tsf2TFjjbd",
        "outputId": "db44bb5a-845d-41e3-8b1f-cd13ba8e8b00"
      },
      "outputs": [
        {
          "output_type": "stream",
          "name": "stdout",
          "text": [
            "0.23495753224476668\n",
            "0.8201440439637067\n",
            "it is not a null hypothesis\n"
          ]
        }
      ],
      "source": [
        "import numpy as np\n",
        "from scipy.stats import ttest_ind\n",
        "a=np.array([1.00,12.5,0.13,1.40,1.50])\n",
        "b=np.array([2.10,2.500,5.60,1.40,2.08])\n",
        "t_stat,p_value=ttest_ind(a,b)\n",
        "print(t_stat)\n",
        "print(p_value)\n",
        "if(p_value<0.5):\n",
        "  print('its a null hypothesis')\n",
        "else:\n",
        "  print('it is not a null hypothesis')"
      ]
    },
    {
      "cell_type": "code",
      "source": [
        "import numpy as np\n",
        "from scipy.stats import ttest_ind\n",
        "a=np.array([11,12,13,14,15])\n",
        "b=np.array([21,25,56,14,28])\n",
        "t_stat,p_value=ttest_ind(a,b)\n",
        "print(t_stat)\n",
        "print(p_value)\n",
        "if(p_value<0.5):\n",
        "  print('its a null hypothesis')\n",
        "else:\n",
        "  print('it is not a null hypothesis')"
      ],
      "metadata": {
        "colab": {
          "base_uri": "https://localhost:8080/"
        },
        "id": "pVE_biVTkfok",
        "outputId": "c67b4c15-43ea-43aa-94e4-23acca1937f1"
      },
      "execution_count": 7,
      "outputs": [
        {
          "output_type": "stream",
          "name": "stdout",
          "text": [
            "-2.1860269050043177\n",
            "0.06029330797723167\n",
            "its a null hypothesis\n"
          ]
        }
      ]
    },
    {
      "cell_type": "code",
      "source": [
        "from scipy.stats import f_oneway #(first boolean expression)\n",
        "a=np.array([12,13,15])\n",
        "b=np.array([15,21,25])\n",
        "c=np.array([54,89,86])\n",
        "f_stat,p_value=f_oneway(a,b,c)\n",
        "print(f_stat)\n",
        "print(p_value)\n",
        "if p_value<0.5:\n",
        "  print('its anull hypothesis')\n",
        "else:\n",
        "  print('its not a null hypothesis')"
      ],
      "metadata": {
        "colab": {
          "base_uri": "https://localhost:8080/"
        },
        "id": "DRRsd3I6mEST",
        "outputId": "521aaaba-f7b5-478c-8507-692e2dffdc72"
      },
      "execution_count": 9,
      "outputs": [
        {
          "output_type": "stream",
          "name": "stdout",
          "text": [
            "26.56188118811884\n",
            "0.0010451233783607978\n",
            "its anull hypothesis\n"
          ]
        }
      ]
    },
    {
      "cell_type": "code",
      "source": [
        "a=np.array([1.2,13,15])\n",
        "b=np.array([1.5,2.6,25])\n",
        "c=np.array([54,5.9,8.6])\n",
        "f_stat,p_value=f_oneway(a,b,c)\n",
        "print(f_stat)\n",
        "print(p_value)\n",
        "if p_value<0.5:\n",
        "  print('its anull hypothesis')\n",
        "else:\n",
        "  print('its not a null hypothesis')"
      ],
      "metadata": {
        "colab": {
          "base_uri": "https://localhost:8080/"
        },
        "id": "E7EJeURUolu8",
        "outputId": "6394ffd6-302d-470f-8fd1-e6fc68fe0946"
      },
      "execution_count": 11,
      "outputs": [
        {
          "output_type": "stream",
          "name": "stdout",
          "text": [
            "0.5366282213011353\n",
            "0.6103733168532465\n",
            "its not a null hypothesis\n"
          ]
        }
      ]
    },
    {
      "cell_type": "code",
      "source": [
        "from scipy.stats import chi2_contingency\n",
        "a=np.array([[14,15],[21,65]])\n",
        "b=chi2_contingency(a)\n",
        "print(b.statistic)\n",
        "p_value=b.pvalue\n",
        "print(p_value)\n",
        "if p_value<0.05:\n",
        "  print('it is a null hypothesis')\n",
        "else:\n",
        "  print('it is not a null hypothesis')"
      ],
      "metadata": {
        "colab": {
          "base_uri": "https://localhost:8080/"
        },
        "id": "EjZkPGpgqDqy",
        "outputId": "558a0466-c4f3-4fbd-a954-370bf9a6b47a"
      },
      "execution_count": 25,
      "outputs": [
        {
          "output_type": "stream",
          "name": "stdout",
          "text": [
            "4.757735529556651\n",
            "0.0291668967180607\n",
            "it is a null hypothesis\n"
          ]
        }
      ]
    },
    {
      "cell_type": "code",
      "source": [
        "\n",
        "\n",
        "\n"
      ],
      "metadata": {
        "colab": {
          "base_uri": "https://localhost:8080/"
        },
        "id": "heWl7ZqPr2xz",
        "outputId": "0a924a5d-296e-4f94-c194-2e2598e2ed3e"
      },
      "execution_count": 20,
      "outputs": [
        {
          "output_type": "execute_result",
          "data": {
            "text/plain": [
              "0.008655478161175739"
            ]
          },
          "metadata": {},
          "execution_count": 20
        }
      ]
    },
    {
      "cell_type": "code",
      "source": [],
      "metadata": {
        "id": "LRDJYA8ZuX16"
      },
      "execution_count": null,
      "outputs": []
    }
  ]
}